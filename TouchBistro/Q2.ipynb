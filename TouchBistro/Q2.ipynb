{
 "cells": [
  {
   "cell_type": "code",
   "execution_count": 1,
   "metadata": {},
   "outputs": [],
   "source": [
    "import pandas as pd\n",
    "from scipy import stats\n",
    "from matplotlib import pyplot as plt\n",
    "import numpy as np\n",
    "import seaborn as sns\n",
    "\n",
    "import datetime"
   ]
  },
  {
   "cell_type": "code",
   "execution_count": 20,
   "metadata": {},
   "outputs": [],
   "source": [
    "bill_data = pd.read_csv(\"bills.csv\")\n",
    "venue_data = pd.read_csv(\"venues.csv\")"
   ]
  },
  {
   "cell_type": "code",
   "execution_count": 21,
   "metadata": {},
   "outputs": [],
   "source": [
    "q2_data = bill_data[['order_take_out_type_label','payment_total_tip','order_duration_seconds','payment_amount','bill_uuid', 'venue_xref_id']].copy()\n",
    "q2_data = q2_data[q2_data['payment_total_tip'] != 0]"
   ]
  },
  {
   "cell_type": "code",
   "execution_count": 22,
   "metadata": {},
   "outputs": [
    {
     "data": {
      "text/plain": [
       "['bartab', 'takeout', 'delivery', 'dinein', 'onlineorder']"
      ]
     },
     "execution_count": 22,
     "metadata": {},
     "output_type": "execute_result"
    }
   ],
   "source": [
    "list(set(q2_data['order_take_out_type_label'].to_list()))"
   ]
  },
  {
   "cell_type": "code",
   "execution_count": 23,
   "metadata": {},
   "outputs": [],
   "source": [
    "def split_by_concept(bill_data: pd.DataFrame, venue_data: pd.DataFrame):\n",
    "    bills = bill_data.merge(venue_data[['venue_xref_id', 'concept']], on='venue_xref_id', how='left')\n",
    "    concepts = list(set(venue_data[\"concept\"].to_list()))\n",
    "    data_by_concept = dict()\n",
    "    for concept in concepts:\n",
    "        data_by_concept[str(concept)] = bills[bills['concept'] == concept]\n",
    "    \n",
    "    return data_by_concept\n"
   ]
  },
  {
   "cell_type": "code",
   "execution_count": 24,
   "metadata": {},
   "outputs": [],
   "source": [
    "data_by_concept = split_by_concept(q2_data, venue_data)"
   ]
  },
  {
   "cell_type": "code",
   "execution_count": null,
   "metadata": {},
   "outputs": [],
   "source": [
    "def plot_data(data: pd.DataFrame):\n",
    "    data['tip_percent'] = data.apply(lambda row: ((row['payment_total_tip'] / row['payment_amount']) * 100) if row['payment_amount'] > 0 else 0, axis=1)\n",
    "    order_types = list(set(data['order_take_out_type_label'].to_list()))\n",
    "    payment_amounts = []\n",
    "    tip_amounts = []\n",
    "    tip_percents = []\n",
    "    for order in order_types:\n",
    "        temp = data[data['order_take_out_type_label'] == order]\n",
    "        payment_amounts.append(temp['payment_amount'].mean())\n",
    "        tip_amounts.append(temp['payment_total_tip'].mean())\n",
    "        tip_percents.append(temp['tip_percent'].mean())\n",
    "\n",
    "    barWidth = 0.25\n",
    "    fig = plt.subplots(figsize =(12, 8)) \n",
    "\n",
    "    br1 = np.arange(len(payment_amounts)) \n",
    "    br2 = [x + barWidth for x in br1] \n",
    "    br3 = [x + barWidth for x in br2] \n",
    "\n",
    "    plt.bar(br1, payment_amounts, color ='r', width = barWidth, \n",
    "        edgecolor ='grey', label ='Payment Amounts') \n",
    "    plt.bar(br2, tip_amounts, color ='g', width = barWidth, \n",
    "        edgecolor ='grey', label ='Tip Amount') \n",
    "    plt.bar(br3, tip_percents, color ='b', width = barWidth, \n",
    "        edgecolor ='grey', label ='Tip Percent')\n",
    "    \n",
    "    plt.xlabel('Order Types', fontweight ='bold', fontsize = 15)  \n",
    "    plt.xticks([r + barWidth for r in range(len(payment_amounts))], \n",
    "            order_types)\n",
    "\n",
    "    plt.legend()\n",
    "    plt.show()\n",
    "\n",
    "    \n"
   ]
  },
  {
   "cell_type": "code",
   "execution_count": 37,
   "metadata": {},
   "outputs": [
    {
     "data": {
      "image/png": "[encoded data removed]",
      "text/plain": [
       "<Figure size 1200x800 with 1 Axes>"
      ]
     },
     "metadata": {},
     "output_type": "display_data"
    }
   ],
   "source": [
    "plot_data(q2_data)"
   ]
  },
  {
   "cell_type": "code",
   "execution_count": null,
   "metadata": {},
   "outputs": [
    {
     "name": "stdout",
     "output_type": "stream",
     "text": [
      "{'bartab': (np.float64(52.48953670373754), np.float64(9.288238148963984), np.float64(18.755306611371818)), 'takeout': (np.float64(44.353099192271635), np.float64(5.137476353427127), np.float64(12.211182688954839)), 'delivery': (np.float64(71.80600771869639), np.float64(8.632971698113208), np.float64(12.75045977063966)), 'dinein': (np.float64(58.9339417432537), np.float64(9.13552834910162), np.float64(14.978421982406092)), 'onlineorder': (np.float64(53.36888153477218), np.float64(6.112532853717027), np.float64(11.620933807725875))}\n"
     ]
    }
   ],
   "source": [
    "\n"
   ]
  }
 ],
 "metadata": {
  "kernelspec": {
   "display_name": ".venv",
   "language": "python",
   "name": "python3"
  },
  "language_info": {
   "codemirror_mode": {
    "name": "ipython",
    "version": 3
   },
   "file_extension": ".py",
   "mimetype": "text/x-python",
   "name": "python",
   "nbconvert_exporter": "python",
   "pygments_lexer": "ipython3",
   "version": "3.10.11"
  }
 },
 "nbformat": 4,
 "nbformat_minor": 2
}
